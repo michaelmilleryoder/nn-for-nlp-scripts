{
 "cells": [
  {
   "cell_type": "code",
   "execution_count": 1,
   "metadata": {
    "collapsed": true
   },
   "outputs": [],
   "source": [
    "import pandas as pd\n",
    "import json\n",
    "import os\n",
    "from tqdm import tqdm_notebook as tqdm\n",
    "import numpy as np\n",
    "from collections import Counter\n",
    "import tweepy"
   ]
  },
  {
   "cell_type": "markdown",
   "metadata": {},
   "source": [
    "# Get user history IDs"
   ]
  },
  {
   "cell_type": "code",
   "execution_count": 12,
   "metadata": {
    "collapsed": true
   },
   "outputs": [],
   "source": [
    "# OAuth\n",
    "keys = pd.read_csv('/usr2/mamille2/twitter/tweepy_oauth.txt', index_col=0)\n",
    "\n",
    "auth = tweepy.OAuthHandler(keys.loc['consumer_key', 'key'], keys.loc['consumer_secret', 'key'])\n",
    "auth.set_access_token(keys.loc['access_token', 'key'], keys.loc['access_secret', 'key'])\n",
    "\n",
    "# Construct the API instance\n",
    "api = tweepy.API(auth)"
   ]
  },
  {
   "cell_type": "code",
   "execution_count": 5,
   "metadata": {},
   "outputs": [
    {
     "name": "stdout",
     "output_type": "stream",
     "text": [
      "Index(['tweet_id', 'created_at', 'in_reply_to_status_id', 'lang',\n",
      "       'retweet_count', 'user_id', 'user_screen_name', 'user_name', 'text',\n",
      "       'text_no_tags', 'tags'],\n",
      "      dtype='object')\n",
      "26002\n"
     ]
    }
   ],
   "source": [
    "# Load data\n",
    "\n",
    "data = pd.read_pickle('/usr2/mamille2/twitter/data/huang2016_data/huang2016_test.pkl')\n",
    "print(data.columns)\n",
    "print(len(data))"
   ]
  },
  {
   "cell_type": "code",
   "execution_count": 3,
   "metadata": {},
   "outputs": [
    {
     "data": {
      "text/plain": [
       "10455"
      ]
     },
     "execution_count": 3,
     "metadata": {},
     "output_type": "execute_result"
    }
   ],
   "source": [
    "# Get user ids\n",
    "uids = sorted(data['user_id'].unique().tolist())\n",
    "len(uids)"
   ]
  },
  {
   "cell_type": "code",
   "execution_count": 6,
   "metadata": {
    "collapsed": true
   },
   "outputs": [],
   "source": [
    "with open('/usr2/mamille2/twitter/data/huang2016_data/test_uids.txt', 'w') as f:\n",
    "    for uid in uids:\n",
    "        f.write('{}\\n'.format(uid))"
   ]
  },
  {
   "cell_type": "markdown",
   "metadata": {},
   "source": [
    "# Check for user histories"
   ]
  },
  {
   "cell_type": "code",
   "execution_count": 2,
   "metadata": {},
   "outputs": [
    {
     "name": "stdout",
     "output_type": "stream",
     "text": [
      "Index(['tweet_id', 'created_at', 'in_reply_to_status_id', 'lang',\n",
      "       'retweet_count', 'user_id', 'user_screen_name', 'user_name', 'text',\n",
      "       'text_no_tags', 'tags'],\n",
      "      dtype='object')\n",
      "215118\n"
     ]
    }
   ],
   "source": [
    "# Load data\n",
    "\n",
    "data = pd.read_pickle('/usr2/mamille2/twitter/data/huang2016_data/huang2016_train.pkl')\n",
    "print(data.columns)\n",
    "print(len(data))"
   ]
  },
  {
   "cell_type": "code",
   "execution_count": 6,
   "metadata": {},
   "outputs": [
    {
     "data": {
      "text/plain": [
       "30430"
      ]
     },
     "execution_count": 6,
     "metadata": {},
     "output_type": "execute_result"
    }
   ],
   "source": [
    "user_tweet_ctr = Counter(data['user_id'].tolist())\n",
    "len(user_tweet_ctr)"
   ]
  },
  {
   "cell_type": "code",
   "execution_count": 7,
   "metadata": {},
   "outputs": [
    {
     "data": {
      "text/plain": [
       "1"
      ]
     },
     "execution_count": 7,
     "metadata": {},
     "output_type": "execute_result"
    }
   ],
   "source": [
    "min(user_tweet_ctr.values())"
   ]
  },
  {
   "cell_type": "code",
   "execution_count": 8,
   "metadata": {},
   "outputs": [
    {
     "data": {
      "text/plain": [
       "1185"
      ]
     },
     "execution_count": 8,
     "metadata": {},
     "output_type": "execute_result"
    }
   ],
   "source": [
    "max(user_tweet_ctr.values())"
   ]
  },
  {
   "cell_type": "code",
   "execution_count": 10,
   "metadata": {},
   "outputs": [
    {
     "data": {
      "text/plain": [
       "[(1, 12569),\n",
       " (2, 5043),\n",
       " (3, 2735),\n",
       " (4, 1732),\n",
       " (5, 1185),\n",
       " (6, 928),\n",
       " (7, 655),\n",
       " (8, 574),\n",
       " (9, 491),\n",
       " (10, 420),\n",
       " (11, 320),\n",
       " (12, 279),\n",
       " (13, 268),\n",
       " (14, 218),\n",
       " (15, 206),\n",
       " (16, 170),\n",
       " (17, 159),\n",
       " (18, 117),\n",
       " (19, 135),\n",
       " (20, 110)]"
      ]
     },
     "execution_count": 10,
     "metadata": {},
     "output_type": "execute_result"
    }
   ],
   "source": [
    "# count of counts\n",
    "\n",
    "counts = Counter(user_tweet_ctr.values())\n",
    "sorted(counts.items())[:20]"
   ]
  },
  {
   "cell_type": "markdown",
   "metadata": {},
   "source": [
    "# Assemble tweepy-downloaded tweets"
   ]
  },
  {
   "cell_type": "code",
   "execution_count": 2,
   "metadata": {
    "scrolled": true
   },
   "outputs": [
    {
     "name": "stdout",
     "output_type": "stream",
     "text": [
      "valid\n"
     ]
    },
    {
     "data": {
      "application/vnd.jupyter.widget-view+json": {
       "model_id": "88dc5e7471b649a3a027f03d28e0bf78"
      }
     },
     "metadata": {},
     "output_type": "display_data"
    },
    {
     "name": "stdout",
     "output_type": "stream",
     "text": [
      "\n",
      "495.504761905\n",
      "test\n"
     ]
    },
    {
     "data": {
      "application/vnd.jupyter.widget-view+json": {
       "model_id": "f8c9452f913546c5b738554216bafcaf"
      }
     },
     "metadata": {},
     "output_type": "display_data"
    },
    {
     "name": "stdout",
     "output_type": "stream",
     "text": [
      "\n",
      "494.99047619\n"
     ]
    }
   ],
   "source": [
    "for fold in ['valid', 'test']:\n",
    "# for fold in ['train']:\n",
    "#     data_dirpath = '/usr2/mamille2/twitter/data/huang2016_data/tweets/{}'.format(fold)\n",
    "    data_dirpath = '/usr2/mamille2/twitter/data/huang2016_data/user_histories/{}'.format(fold)\n",
    "    \n",
    "    print(fold)\n",
    "\n",
    "    file_lens = []\n",
    "    outlines = []\n",
    "\n",
    "    for fname in tqdm(sorted(os.listdir(data_dirpath))):\n",
    "        with open(os.path.join(data_dirpath, fname)) as f:\n",
    "            tweets = json.load(f)\n",
    "            file_lens.append(len(tweets))\n",
    "\n",
    "            for t in tweets:\n",
    "\n",
    "                # Get hashtags and remove hashtags from text\n",
    "                tags = [el['text'] for el in t['entities']['hashtags']]\n",
    "                tag_inds = [el['indices'] for el in t['entities']['hashtags']]\n",
    "\n",
    "                bad_inds = set()\n",
    "                bad_inds_sets = [set(range(beg, end+1)) for beg,end in tag_inds]\n",
    "                for s in bad_inds_sets:\n",
    "                    bad_inds |= s\n",
    "\n",
    "                short = ''.join([char for idx, char in enumerate(t['text']) if idx not in bad_inds])\n",
    "\n",
    "                # Extract info from tweet\n",
    "                info = [t['id'], t['created_at'], t['in_reply_to_status_id'], t['lang'], t['retweet_count'], \n",
    "                        t['user']['id'], t['user']['screen_name'], t['user']['name'],\n",
    "                        t['text'], short, tags]\n",
    "\n",
    "                outlines.append(info)\n",
    "\n",
    "    print(np.mean(file_lens))\n",
    "\n",
    "    out = pd.DataFrame(outlines, columns=['tweet_id', 'created_at', 'in_reply_to_status_id', 'lang',\n",
    "                                     'retweet_count', 'user_id', 'user_screen_name', 'user_name',\n",
    "                                     'text', 'text_no_tags', 'tags'])\n",
    "\n",
    "#     out.to_pickle('/usr2/mamille2/twitter/data/huang2016_data/huang2016_{}.pkl'.format(fold))\n",
    "    out.to_pickle('/usr2/mamille2/twitter/data/huang2016_data/huang2016_user_histories_{}.pkl'.format(fold))"
   ]
  },
  {
   "cell_type": "code",
   "execution_count": 3,
   "metadata": {},
   "outputs": [
    {
     "data": {
      "text/plain": [
       "1"
      ]
     },
     "execution_count": 3,
     "metadata": {},
     "output_type": "execute_result"
    }
   ],
   "source": [
    "c = Counter(out['user_id'].tolist())\n",
    "min(c.values())"
   ]
  },
  {
   "cell_type": "code",
   "execution_count": 5,
   "metadata": {},
   "outputs": [
    {
     "data": {
      "text/plain": [
       "Counter({1: 2, 2: 3, 3: 8, 4: 43, 5: 10354})"
      ]
     },
     "execution_count": 5,
     "metadata": {},
     "output_type": "execute_result"
    }
   ],
   "source": [
    "c_c = Counter(c.values())\n",
    "c_c"
   ]
  },
  {
   "cell_type": "code",
   "execution_count": 9,
   "metadata": {},
   "outputs": [
    {
     "data": {
      "text/html": [
       "<div>\n",
       "<table border=\"1\" class=\"dataframe\">\n",
       "  <thead>\n",
       "    <tr style=\"text-align: right;\">\n",
       "      <th></th>\n",
       "      <th>tweet_id</th>\n",
       "      <th>created_at</th>\n",
       "      <th>in_reply_to_status_id</th>\n",
       "      <th>lang</th>\n",
       "      <th>retweet_count</th>\n",
       "      <th>user_id</th>\n",
       "      <th>user_screen_name</th>\n",
       "      <th>user_name</th>\n",
       "      <th>text</th>\n",
       "      <th>text_no_tags</th>\n",
       "      <th>tags</th>\n",
       "    </tr>\n",
       "  </thead>\n",
       "  <tbody>\n",
       "    <tr>\n",
       "      <th>0</th>\n",
       "      <td>928658511311097856</td>\n",
       "      <td>Thu Nov 09 16:20:17 +0000 2017</td>\n",
       "      <td>NaN</td>\n",
       "      <td>en</td>\n",
       "      <td>728</td>\n",
       "      <td>12</td>\n",
       "      <td>jack</td>\n",
       "      <td>jack</td>\n",
       "      <td>We should’ve communicated faster on this (yest...</td>\n",
       "      <td>We should’ve communicated faster on this (yest...</td>\n",
       "      <td>[]</td>\n",
       "    </tr>\n",
       "    <tr>\n",
       "      <th>1</th>\n",
       "      <td>928401610916556800</td>\n",
       "      <td>Wed Nov 08 23:19:27 +0000 2017</td>\n",
       "      <td>NaN</td>\n",
       "      <td>en</td>\n",
       "      <td>47</td>\n",
       "      <td>12</td>\n",
       "      <td>jack</td>\n",
       "      <td>jack</td>\n",
       "      <td>RT @fmanjoo: This is interesting https://t.co/...</td>\n",
       "      <td>RT @fmanjoo: This is interesting https://t.co/...</td>\n",
       "      <td>[]</td>\n",
       "    </tr>\n",
       "    <tr>\n",
       "      <th>2</th>\n",
       "      <td>928399029272166400</td>\n",
       "      <td>Wed Nov 08 23:09:12 +0000 2017</td>\n",
       "      <td>9.283705e+17</td>\n",
       "      <td>fr</td>\n",
       "      <td>1</td>\n",
       "      <td>12</td>\n",
       "      <td>jack</td>\n",
       "      <td>jack</td>\n",
       "      <td>@rsa @SquareCash Jealous</td>\n",
       "      <td>@rsa @SquareCash Jealous</td>\n",
       "      <td>[]</td>\n",
       "    </tr>\n",
       "    <tr>\n",
       "      <th>3</th>\n",
       "      <td>928398944966553605</td>\n",
       "      <td>Wed Nov 08 23:08:51 +0000 2017</td>\n",
       "      <td>NaN</td>\n",
       "      <td>en</td>\n",
       "      <td>119574</td>\n",
       "      <td>12</td>\n",
       "      <td>jack</td>\n",
       "      <td>jack</td>\n",
       "      <td>RT @NASAGoddard: 🌟   .  *       .         🌙\\n ...</td>\n",
       "      <td>RT @NASAGoddard: 🌟   .  *       .         🌙\\n ...</td>\n",
       "      <td>[]</td>\n",
       "    </tr>\n",
       "    <tr>\n",
       "      <th>4</th>\n",
       "      <td>928303153010819072</td>\n",
       "      <td>Wed Nov 08 16:48:13 +0000 2017</td>\n",
       "      <td>NaN</td>\n",
       "      <td>en</td>\n",
       "      <td>34</td>\n",
       "      <td>12</td>\n",
       "      <td>jack</td>\n",
       "      <td>jack</td>\n",
       "      <td>Another amazing conversation between @tanehisi...</td>\n",
       "      <td>Another amazing conversation between @tanehisi...</td>\n",
       "      <td>[]</td>\n",
       "    </tr>\n",
       "    <tr>\n",
       "      <th>5</th>\n",
       "      <td>905409290214686720</td>\n",
       "      <td>Wed Sep 06 12:36:11 +0000 2017</td>\n",
       "      <td>NaN</td>\n",
       "      <td>en</td>\n",
       "      <td>15268</td>\n",
       "      <td>1005</td>\n",
       "      <td>nosbig</td>\n",
       "      <td>Rob</td>\n",
       "      <td>RT @Newegg: Newegg and @Intel are giving away ...</td>\n",
       "      <td>RT @Newegg: Newegg and @Intel are giving away ...</td>\n",
       "      <td>[XSeries]</td>\n",
       "    </tr>\n",
       "    <tr>\n",
       "      <th>6</th>\n",
       "      <td>900953560296243201</td>\n",
       "      <td>Fri Aug 25 05:30:42 +0000 2017</td>\n",
       "      <td>9.002228e+17</td>\n",
       "      <td>en</td>\n",
       "      <td>0</td>\n",
       "      <td>1005</td>\n",
       "      <td>nosbig</td>\n",
       "      <td>Rob</td>\n",
       "      <td>@thetimtracker @YouTube My wife and I would in...</td>\n",
       "      <td>@thetimtracker @YouTube My wife and I would in...</td>\n",
       "      <td>[]</td>\n",
       "    </tr>\n",
       "    <tr>\n",
       "      <th>7</th>\n",
       "      <td>900952773239357440</td>\n",
       "      <td>Fri Aug 25 05:27:34 +0000 2017</td>\n",
       "      <td>9.001277e+17</td>\n",
       "      <td>en</td>\n",
       "      <td>0</td>\n",
       "      <td>1005</td>\n",
       "      <td>nosbig</td>\n",
       "      <td>Rob</td>\n",
       "      <td>@TheJennTracker My wife and I wish you both th...</td>\n",
       "      <td>@TheJennTracker My wife and I wish you both th...</td>\n",
       "      <td>[]</td>\n",
       "    </tr>\n",
       "    <tr>\n",
       "      <th>8</th>\n",
       "      <td>790716133460611074</td>\n",
       "      <td>Tue Oct 25 00:46:31 +0000 2016</td>\n",
       "      <td>NaN</td>\n",
       "      <td>en</td>\n",
       "      <td>0</td>\n",
       "      <td>1005</td>\n",
       "      <td>nosbig</td>\n",
       "      <td>Rob</td>\n",
       "      <td>@thetimtracker @TheJennTracker How is the bath...</td>\n",
       "      <td>@thetimtracker @TheJennTracker How is the bath...</td>\n",
       "      <td>[]</td>\n",
       "    </tr>\n",
       "    <tr>\n",
       "      <th>9</th>\n",
       "      <td>785612663267135488</td>\n",
       "      <td>Mon Oct 10 22:47:09 +0000 2016</td>\n",
       "      <td>NaN</td>\n",
       "      <td>en</td>\n",
       "      <td>0</td>\n",
       "      <td>1005</td>\n",
       "      <td>nosbig</td>\n",
       "      <td>Rob</td>\n",
       "      <td>@davidcaolo  Are the back catalog episodes of ...</td>\n",
       "      <td>@davidcaolo  Are the back catalog episodes of ...</td>\n",
       "      <td>[]</td>\n",
       "    </tr>\n",
       "    <tr>\n",
       "      <th>10</th>\n",
       "      <td>928632301373751297</td>\n",
       "      <td>Thu Nov 09 14:36:08 +0000 2017</td>\n",
       "      <td>9.286086e+17</td>\n",
       "      <td>in</td>\n",
       "      <td>0</td>\n",
       "      <td>1038</td>\n",
       "      <td>martijn</td>\n",
       "      <td>Martijn van Es</td>\n",
       "      <td>@YoungWellens @arcinho Independent Music Profe...</td>\n",
       "      <td>@YoungWellens @arcinho Independent Music Profe...</td>\n",
       "      <td>[]</td>\n",
       "    </tr>\n",
       "    <tr>\n",
       "      <th>11</th>\n",
       "      <td>928606544480100352</td>\n",
       "      <td>Thu Nov 09 12:53:47 +0000 2017</td>\n",
       "      <td>9.286033e+17</td>\n",
       "      <td>nl</td>\n",
       "      <td>0</td>\n",
       "      <td>1038</td>\n",
       "      <td>martijn</td>\n",
       "      <td>Martijn van Es</td>\n",
       "      <td>@SipMarkink Sterkte allemaal. Het is een mooi ...</td>\n",
       "      <td>@SipMarkink Sterkte allemaal. Het is een mooi ...</td>\n",
       "      <td>[]</td>\n",
       "    </tr>\n",
       "  </tbody>\n",
       "</table>\n",
       "</div>"
      ],
      "text/plain": [
       "              tweet_id                      created_at  in_reply_to_status_id  \\\n",
       "0   928658511311097856  Thu Nov 09 16:20:17 +0000 2017                    NaN   \n",
       "1   928401610916556800  Wed Nov 08 23:19:27 +0000 2017                    NaN   \n",
       "2   928399029272166400  Wed Nov 08 23:09:12 +0000 2017           9.283705e+17   \n",
       "3   928398944966553605  Wed Nov 08 23:08:51 +0000 2017                    NaN   \n",
       "4   928303153010819072  Wed Nov 08 16:48:13 +0000 2017                    NaN   \n",
       "5   905409290214686720  Wed Sep 06 12:36:11 +0000 2017                    NaN   \n",
       "6   900953560296243201  Fri Aug 25 05:30:42 +0000 2017           9.002228e+17   \n",
       "7   900952773239357440  Fri Aug 25 05:27:34 +0000 2017           9.001277e+17   \n",
       "8   790716133460611074  Tue Oct 25 00:46:31 +0000 2016                    NaN   \n",
       "9   785612663267135488  Mon Oct 10 22:47:09 +0000 2016                    NaN   \n",
       "10  928632301373751297  Thu Nov 09 14:36:08 +0000 2017           9.286086e+17   \n",
       "11  928606544480100352  Thu Nov 09 12:53:47 +0000 2017           9.286033e+17   \n",
       "\n",
       "   lang  retweet_count  user_id user_screen_name       user_name  \\\n",
       "0    en            728       12             jack            jack   \n",
       "1    en             47       12             jack            jack   \n",
       "2    fr              1       12             jack            jack   \n",
       "3    en         119574       12             jack            jack   \n",
       "4    en             34       12             jack            jack   \n",
       "5    en          15268     1005           nosbig             Rob   \n",
       "6    en              0     1005           nosbig             Rob   \n",
       "7    en              0     1005           nosbig             Rob   \n",
       "8    en              0     1005           nosbig             Rob   \n",
       "9    en              0     1005           nosbig             Rob   \n",
       "10   in              0     1038          martijn  Martijn van Es   \n",
       "11   nl              0     1038          martijn  Martijn van Es   \n",
       "\n",
       "                                                 text  \\\n",
       "0   We should’ve communicated faster on this (yest...   \n",
       "1   RT @fmanjoo: This is interesting https://t.co/...   \n",
       "2                            @rsa @SquareCash Jealous   \n",
       "3   RT @NASAGoddard: 🌟   .  *       .         🌙\\n ...   \n",
       "4   Another amazing conversation between @tanehisi...   \n",
       "5   RT @Newegg: Newegg and @Intel are giving away ...   \n",
       "6   @thetimtracker @YouTube My wife and I would in...   \n",
       "7   @TheJennTracker My wife and I wish you both th...   \n",
       "8   @thetimtracker @TheJennTracker How is the bath...   \n",
       "9   @davidcaolo  Are the back catalog episodes of ...   \n",
       "10  @YoungWellens @arcinho Independent Music Profe...   \n",
       "11  @SipMarkink Sterkte allemaal. Het is een mooi ...   \n",
       "\n",
       "                                         text_no_tags       tags  \n",
       "0   We should’ve communicated faster on this (yest...         []  \n",
       "1   RT @fmanjoo: This is interesting https://t.co/...         []  \n",
       "2                            @rsa @SquareCash Jealous         []  \n",
       "3   RT @NASAGoddard: 🌟   .  *       .         🌙\\n ...         []  \n",
       "4   Another amazing conversation between @tanehisi...         []  \n",
       "5   RT @Newegg: Newegg and @Intel are giving away ...  [XSeries]  \n",
       "6   @thetimtracker @YouTube My wife and I would in...         []  \n",
       "7   @TheJennTracker My wife and I wish you both th...         []  \n",
       "8   @thetimtracker @TheJennTracker How is the bath...         []  \n",
       "9   @davidcaolo  Are the back catalog episodes of ...         []  \n",
       "10  @YoungWellens @arcinho Independent Music Profe...         []  \n",
       "11  @SipMarkink Sterkte allemaal. Het is een mooi ...         []  "
      ]
     },
     "execution_count": 9,
     "metadata": {},
     "output_type": "execute_result"
    }
   ],
   "source": [
    "out.iloc[:12]"
   ]
  },
  {
   "cell_type": "code",
   "execution_count": 6,
   "metadata": {},
   "outputs": [
    {
     "data": {
      "text/plain": [
       "0    [coaching, walking]\n",
       "1     [women, Diversity]\n",
       "2      [Toronto, Social]\n",
       "3           [FollowBack]\n",
       "4          [free, eBook]\n",
       "Name: tags, dtype: object"
      ]
     },
     "execution_count": 6,
     "metadata": {},
     "output_type": "execute_result"
    }
   ],
   "source": [
    "out['tags'].iloc[:5]"
   ]
  },
  {
   "cell_type": "code",
   "execution_count": 7,
   "metadata": {},
   "outputs": [
    {
     "data": {
      "text/plain": [
       "{'contributors': None,\n",
       " 'coordinates': None,\n",
       " 'created_at': 'Mon May 02 09:08:48 +0000 2016',\n",
       " 'entities': {'hashtags': [{'indices': [108, 117], 'text': 'coaching'},\n",
       "   {'indices': [124, 132], 'text': 'walking'}],\n",
       "  'symbols': [],\n",
       "  'urls': [],\n",
       "  'user_mentions': [{'id': 2799567910,\n",
       "    'id_str': '2799567910',\n",
       "    'indices': [3, 16],\n",
       "    'name': 'Liz Walmsley',\n",
       "    'screen_name': 'walmsley_liz'}]},\n",
       " 'favorite_count': 0,\n",
       " 'favorited': False,\n",
       " 'geo': None,\n",
       " 'id': 727062271499886592,\n",
       " 'id_str': '727062271499886592',\n",
       " 'in_reply_to_screen_name': None,\n",
       " 'in_reply_to_status_id': None,\n",
       " 'in_reply_to_status_id_str': None,\n",
       " 'in_reply_to_user_id': None,\n",
       " 'in_reply_to_user_id_str': None,\n",
       " 'is_quote_status': True,\n",
       " 'lang': 'en',\n",
       " 'place': None,\n",
       " 'quoted_status_id': 727047236937498625,\n",
       " 'quoted_status_id_str': '727047236937498625',\n",
       " 'retweet_count': 3,\n",
       " 'retweeted': False,\n",
       " 'retweeted_status': {'contributors': None,\n",
       "  'coordinates': None,\n",
       "  'created_at': 'Mon May 02 08:49:03 +0000 2016',\n",
       "  'entities': {'hashtags': [{'indices': [90, 99], 'text': 'coaching'},\n",
       "    {'indices': [106, 114], 'text': 'walking'}],\n",
       "   'symbols': [],\n",
       "   'urls': [{'display_url': 'twitter.com/yourlittlekang…',\n",
       "     'expanded_url': 'https://twitter.com/yourlittlekanga/status/727047236937498625',\n",
       "     'indices': [116, 139],\n",
       "     'url': 'https://t.co/SxH1iaDiQr'}],\n",
       "   'user_mentions': []},\n",
       "  'favorite_count': 4,\n",
       "  'favorited': False,\n",
       "  'geo': None,\n",
       "  'id': 727057303170633728,\n",
       "  'id_str': '727057303170633728',\n",
       "  'in_reply_to_screen_name': None,\n",
       "  'in_reply_to_status_id': None,\n",
       "  'in_reply_to_status_id_str': None,\n",
       "  'in_reply_to_user_id': None,\n",
       "  'in_reply_to_user_id_str': None,\n",
       "  'is_quote_status': True,\n",
       "  'lang': 'en',\n",
       "  'place': None,\n",
       "  'possibly_sensitive': False,\n",
       "  'quoted_status': {'contributors': None,\n",
       "   'coordinates': None,\n",
       "   'created_at': 'Mon May 02 08:09:03 +0000 2016',\n",
       "   'entities': {'hashtags': [{'indices': [61, 64], 'text': 'UK'},\n",
       "     {'indices': [85, 91], 'text': 'sales'},\n",
       "     {'indices': [92, 100], 'text': 'startup'},\n",
       "     {'indices': [101, 112], 'text': 'portsmouth'}],\n",
       "    'media': [{'display_url': 'pic.twitter.com/S55H5JXNDu',\n",
       "      'expanded_url': 'https://twitter.com/YourLittleKanga/status/727047236937498625/photo/1',\n",
       "      'id': 727047204049932289,\n",
       "      'id_str': '727047204049932289',\n",
       "      'indices': [113, 136],\n",
       "      'media_url': 'http://pbs.twimg.com/media/Chb9lHxWUAEpqh1.jpg',\n",
       "      'media_url_https': 'https://pbs.twimg.com/media/Chb9lHxWUAEpqh1.jpg',\n",
       "      'sizes': {'large': {'h': 1536, 'resize': 'fit', 'w': 2048},\n",
       "       'medium': {'h': 900, 'resize': 'fit', 'w': 1200},\n",
       "       'small': {'h': 510, 'resize': 'fit', 'w': 680},\n",
       "       'thumb': {'h': 150, 'resize': 'crop', 'w': 150}},\n",
       "      'type': 'photo',\n",
       "      'url': 'https://t.co/S55H5JXNDu'}],\n",
       "    'symbols': [],\n",
       "    'urls': [],\n",
       "    'user_mentions': []},\n",
       "   'extended_entities': {'media': [{'display_url': 'pic.twitter.com/S55H5JXNDu',\n",
       "      'expanded_url': 'https://twitter.com/YourLittleKanga/status/727047236937498625/photo/1',\n",
       "      'id': 727047204049932289,\n",
       "      'id_str': '727047204049932289',\n",
       "      'indices': [113, 136],\n",
       "      'media_url': 'http://pbs.twimg.com/media/Chb9lHxWUAEpqh1.jpg',\n",
       "      'media_url_https': 'https://pbs.twimg.com/media/Chb9lHxWUAEpqh1.jpg',\n",
       "      'sizes': {'large': {'h': 1536, 'resize': 'fit', 'w': 2048},\n",
       "       'medium': {'h': 900, 'resize': 'fit', 'w': 1200},\n",
       "       'small': {'h': 510, 'resize': 'fit', 'w': 680},\n",
       "       'thumb': {'h': 150, 'resize': 'crop', 'w': 150}},\n",
       "      'type': 'photo',\n",
       "      'url': 'https://t.co/S55H5JXNDu'}]},\n",
       "   'favorite_count': 5,\n",
       "   'favorited': False,\n",
       "   'geo': None,\n",
       "   'id': 727047236937498625,\n",
       "   'id_str': '727047236937498625',\n",
       "   'in_reply_to_screen_name': None,\n",
       "   'in_reply_to_status_id': None,\n",
       "   'in_reply_to_status_id_str': None,\n",
       "   'in_reply_to_user_id': None,\n",
       "   'in_reply_to_user_id_str': None,\n",
       "   'is_quote_status': False,\n",
       "   'lang': 'en',\n",
       "   'place': {'attributes': {},\n",
       "    'bounding_box': {'coordinates': [[[-1.18648, 50.778439],\n",
       "       [-1.111916, 50.778439],\n",
       "       [-1.111916, 50.839238],\n",
       "       [-1.18648, 50.839238]]],\n",
       "     'type': 'Polygon'},\n",
       "    'contained_within': [],\n",
       "    'country': 'United Kingdom',\n",
       "    'country_code': 'GB',\n",
       "    'full_name': 'Gosport, England',\n",
       "    'id': '38163d4dde6f8f37',\n",
       "    'name': 'Gosport',\n",
       "    'place_type': 'city',\n",
       "    'url': 'https://api.twitter.com/1.1/geo/id/38163d4dde6f8f37.json'},\n",
       "   'possibly_sensitive': False,\n",
       "   'retweet_count': 0,\n",
       "   'retweeted': False,\n",
       "   'source': '<a href=\"http://twitter.com/download/iphone\" rel=\"nofollow\">Twitter for iPhone</a>',\n",
       "   'text': 'No alarm clock this morning. So with an extra day off in the #UK what are you doing? #sales #startup #portsmouth https://t.co/S55H5JXNDu',\n",
       "   'truncated': False,\n",
       "   'user': {'contributors_enabled': False,\n",
       "    'created_at': 'Tue Feb 10 18:51:59 +0000 2015',\n",
       "    'default_profile': False,\n",
       "    'default_profile_image': False,\n",
       "    'description': '👉🏻Becky Lodge #Founder @solentdisruptor @hampshiremtb 👉🏻STUCK with #marketing #socialmedia or #sales then #outsource it to me today. DM me NOW!',\n",
       "    'entities': {'description': {'urls': []},\n",
       "     'url': {'urls': [{'display_url': 'littlekanga.co.uk',\n",
       "        'expanded_url': 'http://www.littlekanga.co.uk',\n",
       "        'indices': [0, 23],\n",
       "        'url': 'https://t.co/9PdusfB6q1'}]}},\n",
       "    'favourites_count': 12352,\n",
       "    'follow_request_sent': False,\n",
       "    'followers_count': 11190,\n",
       "    'following': False,\n",
       "    'friends_count': 12318,\n",
       "    'geo_enabled': True,\n",
       "    'has_extended_profile': False,\n",
       "    'id': 3028559987,\n",
       "    'id_str': '3028559987',\n",
       "    'is_translation_enabled': False,\n",
       "    'is_translator': False,\n",
       "    'lang': 'en',\n",
       "    'listed_count': 927,\n",
       "    'location': 'United Kingdom',\n",
       "    'name': 'Little Kanga Ltd',\n",
       "    'notifications': False,\n",
       "    'profile_background_color': '000000',\n",
       "    'profile_background_image_url': 'http://abs.twimg.com/images/themes/theme1/bg.png',\n",
       "    'profile_background_image_url_https': 'https://abs.twimg.com/images/themes/theme1/bg.png',\n",
       "    'profile_background_tile': False,\n",
       "    'profile_banner_url': 'https://pbs.twimg.com/profile_banners/3028559987/1499620456',\n",
       "    'profile_image_url': 'http://pbs.twimg.com/profile_images/868169501241749504/J1AURKqs_normal.jpg',\n",
       "    'profile_image_url_https': 'https://pbs.twimg.com/profile_images/868169501241749504/J1AURKqs_normal.jpg',\n",
       "    'profile_link_color': 'FA743E',\n",
       "    'profile_sidebar_border_color': '000000',\n",
       "    'profile_sidebar_fill_color': '000000',\n",
       "    'profile_text_color': '000000',\n",
       "    'profile_use_background_image': False,\n",
       "    'protected': False,\n",
       "    'screen_name': 'YourLittleKanga',\n",
       "    'statuses_count': 17683,\n",
       "    'time_zone': 'London',\n",
       "    'translator_type': 'none',\n",
       "    'url': 'https://t.co/9PdusfB6q1',\n",
       "    'utc_offset': 0,\n",
       "    'verified': False}},\n",
       "  'quoted_status_id': 727047236937498625,\n",
       "  'quoted_status_id_str': '727047236937498625',\n",
       "  'retweet_count': 3,\n",
       "  'retweeted': False,\n",
       "  'source': '<a href=\"http://twitter.com/#!/download/ipad\" rel=\"nofollow\">Twitter for iPad</a>',\n",
       "  'text': 'morning Becky, you might not be surprised to know that we are going for a walk, recce for #coaching while #walking. https://t.co/SxH1iaDiQr',\n",
       "  'truncated': False,\n",
       "  'user': {'contributors_enabled': False,\n",
       "   'created_at': 'Thu Oct 02 08:01:57 +0000 2014',\n",
       "   'default_profile': False,\n",
       "   'default_profile_image': False,\n",
       "   'description': 'Life Coach, Personal Development, coaching while walking - putting the spring back in your step.',\n",
       "   'entities': {'description': {'urls': []},\n",
       "    'url': {'urls': [{'display_url': 'lizwalmsley.co.uk',\n",
       "       'expanded_url': 'http://www.lizwalmsley.co.uk',\n",
       "       'indices': [0, 22],\n",
       "       'url': 'http://t.co/X2vheTDhuz'}]}},\n",
       "   'favourites_count': 3982,\n",
       "   'follow_request_sent': False,\n",
       "   'followers_count': 636,\n",
       "   'following': False,\n",
       "   'friends_count': 537,\n",
       "   'geo_enabled': False,\n",
       "   'has_extended_profile': False,\n",
       "   'id': 2799567910,\n",
       "   'id_str': '2799567910',\n",
       "   'is_translation_enabled': False,\n",
       "   'is_translator': False,\n",
       "   'lang': 'en',\n",
       "   'listed_count': 118,\n",
       "   'location': 'Havant, Hampshire',\n",
       "   'name': 'Liz Walmsley',\n",
       "   'notifications': False,\n",
       "   'profile_background_color': '000000',\n",
       "   'profile_background_image_url': 'http://abs.twimg.com/images/themes/theme1/bg.png',\n",
       "   'profile_background_image_url_https': 'https://abs.twimg.com/images/themes/theme1/bg.png',\n",
       "   'profile_background_tile': False,\n",
       "   'profile_banner_url': 'https://pbs.twimg.com/profile_banners/2799567910/1412353037',\n",
       "   'profile_image_url': 'http://pbs.twimg.com/profile_images/517953057335037952/Skrb_tf4_normal.jpeg',\n",
       "   'profile_image_url_https': 'https://pbs.twimg.com/profile_images/517953057335037952/Skrb_tf4_normal.jpeg',\n",
       "   'profile_link_color': '3B94D9',\n",
       "   'profile_sidebar_border_color': '000000',\n",
       "   'profile_sidebar_fill_color': '000000',\n",
       "   'profile_text_color': '000000',\n",
       "   'profile_use_background_image': False,\n",
       "   'protected': False,\n",
       "   'screen_name': 'walmsley_liz',\n",
       "   'statuses_count': 3661,\n",
       "   'time_zone': None,\n",
       "   'translator_type': 'none',\n",
       "   'url': 'http://t.co/X2vheTDhuz',\n",
       "   'utc_offset': None,\n",
       "   'verified': False}},\n",
       " 'source': '<a href=\"http://twitter.com/download/iphone\" rel=\"nofollow\">Twitter for iPhone</a>',\n",
       " 'text': 'RT @walmsley_liz: morning Becky, you might not be surprised to know that we are going for a walk, recce for #coaching while #walking. https…',\n",
       " 'truncated': False,\n",
       " 'user': {'contributors_enabled': False,\n",
       "  'created_at': 'Fri Mar 12 21:09:00 +0000 2010',\n",
       "  'default_profile': True,\n",
       "  'default_profile_image': False,\n",
       "  'description': 'Busy pushing STEM #GE +our biz consultancy. FInstLM, FRSA. Past Chair, Rosa UK Fund for Women + Girls, past-VP, UNWomen UK. Love polo. Potterhead (Views my own)',\n",
       "  'entities': {'description': {'urls': []}},\n",
       "  'favourites_count': 43863,\n",
       "  'follow_request_sent': False,\n",
       "  'followers_count': 1367,\n",
       "  'following': False,\n",
       "  'friends_count': 952,\n",
       "  'geo_enabled': False,\n",
       "  'has_extended_profile': True,\n",
       "  'id': 122475762,\n",
       "  'id_str': '122475762',\n",
       "  'is_translation_enabled': False,\n",
       "  'is_translator': False,\n",
       "  'lang': 'en',\n",
       "  'listed_count': 241,\n",
       "  'location': 'UK',\n",
       "  'name': 'Jan Floyd-Douglass',\n",
       "  'notifications': False,\n",
       "  'profile_background_color': 'C0DEED',\n",
       "  'profile_background_image_url': 'http://abs.twimg.com/images/themes/theme1/bg.png',\n",
       "  'profile_background_image_url_https': 'https://abs.twimg.com/images/themes/theme1/bg.png',\n",
       "  'profile_background_tile': False,\n",
       "  'profile_banner_url': 'https://pbs.twimg.com/profile_banners/122475762/1489924309',\n",
       "  'profile_image_url': 'http://pbs.twimg.com/profile_images/809431710035218433/RRdHCA64_normal.jpg',\n",
       "  'profile_image_url_https': 'https://pbs.twimg.com/profile_images/809431710035218433/RRdHCA64_normal.jpg',\n",
       "  'profile_link_color': '1DA1F2',\n",
       "  'profile_sidebar_border_color': 'C0DEED',\n",
       "  'profile_sidebar_fill_color': 'DDEEF6',\n",
       "  'profile_text_color': '333333',\n",
       "  'profile_use_background_image': True,\n",
       "  'protected': False,\n",
       "  'screen_name': 'janathe9s',\n",
       "  'statuses_count': 32772,\n",
       "  'time_zone': 'London',\n",
       "  'translator_type': 'none',\n",
       "  'url': None,\n",
       "  'utc_offset': 0,\n",
       "  'verified': False}}"
      ]
     },
     "execution_count": 7,
     "metadata": {},
     "output_type": "execute_result"
    }
   ],
   "source": [
    "t = tweets[0]\n",
    "t"
   ]
  }
 ],
 "metadata": {
  "kernelspec": {
   "display_name": "Python 3",
   "language": "python",
   "name": "python3"
  },
  "language_info": {
   "codemirror_mode": {
    "name": "ipython",
    "version": 3
   },
   "file_extension": ".py",
   "mimetype": "text/x-python",
   "name": "python",
   "nbconvert_exporter": "python",
   "pygments_lexer": "ipython3",
   "version": "3.6.0"
  }
 },
 "nbformat": 4,
 "nbformat_minor": 2
}

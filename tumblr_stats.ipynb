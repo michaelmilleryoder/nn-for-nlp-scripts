{
 "cells": [
  {
   "cell_type": "code",
   "execution_count": 1,
   "metadata": {
    "collapsed": true
   },
   "outputs": [],
   "source": [
    "import pandas as pd\n",
    "from collections import Counter\n",
    "import matplotlib.pyplot as plt\n",
    "import numpy as np\n",
    "import pickle"
   ]
  },
  {
   "cell_type": "markdown",
   "metadata": {},
   "source": [
    "# Remove machine-generated tags"
   ]
  },
  {
   "cell_type": "code",
   "execution_count": 4,
   "metadata": {},
   "outputs": [
    {
     "data": {
      "text/plain": [
       "35"
      ]
     },
     "execution_count": 4,
     "metadata": {},
     "output_type": "execute_result"
    }
   ],
   "source": [
    "# Load tags and distros\n",
    "\n",
    "with open('tags_freqs.pkl', 'rb') as f:\n",
    "    tag_freqs = pickle.load(f)\n",
    "    \n",
    "len(tag_freqs)"
   ]
  },
  {
   "cell_type": "code",
   "execution_count": 5,
   "metadata": {},
   "outputs": [
    {
     "data": {
      "text/plain": [
       "dict_keys([50, 60, 70, 80, 90, 100, 110, 120, 130, 140, 150, 160, 170, 180, 190, 200, 210, 220, 230, 240, 250, 260, 270, 280, 290, 300, 310, 320, 330, 340, 350, 360, 370, 380, 390])"
      ]
     },
     "execution_count": 5,
     "metadata": {},
     "output_type": "execute_result"
    }
   ],
   "source": [
    "tag_freqs.keys()"
   ]
  },
  {
   "cell_type": "code",
   "execution_count": 7,
   "metadata": {},
   "outputs": [
    {
     "data": {
      "text/plain": [
       "35"
      ]
     },
     "execution_count": 7,
     "metadata": {},
     "output_type": "execute_result"
    }
   ],
   "source": [
    "filtered_freqs = {k: [x for x in tag_freqs[k] if not x.startswith('_')] for k in tag_freqs}\n",
    "len(filtered_freqs)"
   ]
  },
  {
   "cell_type": "code",
   "execution_count": 9,
   "metadata": {},
   "outputs": [
    {
     "data": {
      "text/plain": [
       "315"
      ]
     },
     "execution_count": 9,
     "metadata": {},
     "output_type": "execute_result"
    }
   ],
   "source": [
    "len(filtered_freqs[390])"
   ]
  },
  {
   "cell_type": "code",
   "execution_count": 10,
   "metadata": {},
   "outputs": [
    {
     "data": {
      "text/plain": [
       "35"
      ]
     },
     "execution_count": 10,
     "metadata": {},
     "output_type": "execute_result"
    }
   ],
   "source": [
    "tag_cdf = {k: len(filtered_freqs[k]) for k in filtered_freqs}\n",
    "len(tag_cdf)"
   ]
  },
  {
   "cell_type": "code",
   "execution_count": 11,
   "metadata": {},
   "outputs": [
    {
     "data": {
      "text/plain": [
       "{50: 3654,\n",
       " 60: 3138,\n",
       " 70: 2536,\n",
       " 80: 2221,\n",
       " 90: 1981,\n",
       " 100: 1788,\n",
       " 110: 1606,\n",
       " 120: 1470,\n",
       " 130: 1361,\n",
       " 140: 1273,\n",
       " 150: 1208,\n",
       " 160: 1137,\n",
       " 170: 1079,\n",
       " 180: 1008,\n",
       " 190: 941,\n",
       " 200: 869,\n",
       " 210: 787,\n",
       " 220: 712,\n",
       " 230: 675,\n",
       " 240: 642,\n",
       " 250: 610,\n",
       " 260: 516,\n",
       " 270: 489,\n",
       " 280: 464,\n",
       " 290: 436,\n",
       " 300: 416,\n",
       " 310: 398,\n",
       " 320: 388,\n",
       " 330: 375,\n",
       " 340: 367,\n",
       " 350: 353,\n",
       " 360: 347,\n",
       " 370: 337,\n",
       " 380: 323,\n",
       " 390: 315}"
      ]
     },
     "execution_count": 11,
     "metadata": {},
     "output_type": "execute_result"
    }
   ],
   "source": [
    "tag_cdf"
   ]
  },
  {
   "cell_type": "markdown",
   "metadata": {},
   "source": [
    "# See distribution of tags to determine cutoff"
   ]
  },
  {
   "cell_type": "code",
   "execution_count": 2,
   "metadata": {},
   "outputs": [
    {
     "name": "stdout",
     "output_type": "stream",
     "text": [
      "Index(['post_id', 'activity_time_epoch', 'tumblog_id', 'post_title',\n",
      "       'post_short_url', 'post_type', 'post_caption', 'post_format',\n",
      "       'post_note_count', 'created_time_epoch', 'updated_time_epoch',\n",
      "       'is_submission', 'source_title', 'source_url', 'post_classifier',\n",
      "       'blog_classifier', 'accepts_answers', 'reblogged_from_post_id',\n",
      "       'reblogged_from_metadata', 'root_post_id', 'body', 'mentions',\n",
      "       'post_tags'],\n",
      "      dtype='object')\n",
      "3078642\n"
     ]
    }
   ],
   "source": [
    "# Load data\n",
    "data = pd.read_pickle('../tumblr/data/halfday_text.pkl')\n",
    "print(data.columns)\n",
    "print(len(data))"
   ]
  },
  {
   "cell_type": "code",
   "execution_count": 4,
   "metadata": {
    "collapsed": true
   },
   "outputs": [],
   "source": [
    "def split_tags(tags, sep=',', combine_words=False):\n",
    "    \n",
    "    \"\"\" Returns list of tags from Tumblr's format \"\"\"\n",
    "    \n",
    "    # Check for NaN\n",
    "    if not isinstance(tags, str):\n",
    "        return []\n",
    "    \n",
    "    spaced_tags = [tag[1:-1] for tag in tags[1:-1].split(sep)]\n",
    "    \n",
    "    if not combine_words:\n",
    "        return spaced_tags\n",
    "    else:\n",
    "        nospace_tags = [tag.replace(' ', '') for tag in spaced_tags]\n",
    "        return nospace_tags"
   ]
  },
  {
   "cell_type": "code",
   "execution_count": 5,
   "metadata": {},
   "outputs": [
    {
     "name": "stdout",
     "output_type": "stream",
     "text": [
      "3078642\n",
      "['promo', 'f4f', 'p4p', 'hogwarts']\n"
     ]
    }
   ],
   "source": [
    "tag_list = data['post_tags'].map(split_tags)\n",
    "print(len(tag_list))\n",
    "print(tag_list[0])"
   ]
  },
  {
   "cell_type": "code",
   "execution_count": 9,
   "metadata": {},
   "outputs": [
    {
     "name": "stdout",
     "output_type": "stream",
     "text": [
      "2536453\n"
     ]
    }
   ],
   "source": [
    "tag_flat = [x for sublist in tag_list for x in sublist if x != '']\n",
    "print(len(tag_flat))"
   ]
  },
  {
   "cell_type": "code",
   "execution_count": 10,
   "metadata": {},
   "outputs": [
    {
     "data": {
      "text/plain": [
       "720176"
      ]
     },
     "execution_count": 10,
     "metadata": {},
     "output_type": "execute_result"
    }
   ],
   "source": [
    "tag_ctr = Counter(tag_flat)\n",
    "len(tag_ctr)"
   ]
  },
  {
   "cell_type": "code",
   "execution_count": 12,
   "metadata": {},
   "outputs": [
    {
     "name": "stdout",
     "output_type": "stream",
     "text": [
      "1\n",
      "19415\n"
     ]
    }
   ],
   "source": [
    "# range\n",
    "print(min(tag_ctr.values()))\n",
    "print(max(tag_ctr.values()))"
   ]
  },
  {
   "cell_type": "code",
   "execution_count": 18,
   "metadata": {},
   "outputs": [
    {
     "data": {
      "text/plain": [
       "[(1, 550022),\n",
       " (2, 81231),\n",
       " (3, 26610),\n",
       " (4, 15535),\n",
       " (5, 8331),\n",
       " (6, 6333),\n",
       " (7, 4175),\n",
       " (8, 3434),\n",
       " (9, 2478),\n",
       " (10, 2122)]"
      ]
     },
     "execution_count": 18,
     "metadata": {},
     "output_type": "execute_result"
    }
   ],
   "source": [
    "# Count of the counts\n",
    "freq_ctr = Counter(list(tag_ctr.values()))\n",
    "freq_ctr.most_common(10)"
   ]
  },
  {
   "cell_type": "code",
   "execution_count": 24,
   "metadata": {},
   "outputs": [
    {
     "data": {
      "text/plain": [
       "[(1, 720176),\n",
       " (2, 170154),\n",
       " (3, 88923),\n",
       " (4, 62313),\n",
       " (5, 46778),\n",
       " (6, 38447),\n",
       " (7, 32114),\n",
       " (8, 27939),\n",
       " (9, 24505),\n",
       " (10, 22027)]"
      ]
     },
     "execution_count": 24,
     "metadata": {},
     "output_type": "execute_result"
    }
   ],
   "source": [
    "# CDF\n",
    "\n",
    "cdf = {x: sum([val for k,val in freq_ctr.items() if k >= x]) for x in freq_ctr}\n",
    "sorted(cdf.items())[:10]"
   ]
  },
  {
   "cell_type": "code",
   "execution_count": 27,
   "metadata": {},
   "outputs": [
    {
     "data": {
      "text/plain": [
       "[(1, 720176),\n",
       " (2, 170154),\n",
       " (3, 88923),\n",
       " (4, 62313),\n",
       " (5, 46778),\n",
       " (6, 38447),\n",
       " (7, 32114),\n",
       " (8, 27939),\n",
       " (9, 24505),\n",
       " (10, 22027),\n",
       " (11, 19905),\n",
       " (12, 18258),\n",
       " (13, 16592),\n",
       " (14, 15418),\n",
       " (15, 14373),\n",
       " (16, 13518),\n",
       " (17, 12702),\n",
       " (18, 12069),\n",
       " (19, 11411),\n",
       " (20, 10916),\n",
       " (21, 10359),\n",
       " (22, 9950),\n",
       " (23, 9552),\n",
       " (24, 9236),\n",
       " (25, 8810),\n",
       " (26, 8451),\n",
       " (27, 8164),\n",
       " (28, 7923),\n",
       " (29, 7652),\n",
       " (30, 7419),\n",
       " (31, 7174),\n",
       " (32, 6999),\n",
       " (33, 6833),\n",
       " (34, 6658),\n",
       " (35, 6469),\n",
       " (36, 6297),\n",
       " (37, 6162),\n",
       " (38, 6053),\n",
       " (39, 5894),\n",
       " (40, 5767),\n",
       " (41, 5644),\n",
       " (42, 5508),\n",
       " (43, 5404),\n",
       " (44, 5306),\n",
       " (45, 5192),\n",
       " (46, 5107),\n",
       " (47, 5018),\n",
       " (48, 4939),\n",
       " (49, 4839),\n",
       " (50, 4768),\n",
       " (51, 4695),\n",
       " (52, 4632),\n",
       " (53, 4560),\n",
       " (54, 4501),\n",
       " (55, 4441),\n",
       " (56, 4383),\n",
       " (57, 4326),\n",
       " (58, 4276),\n",
       " (59, 4206),\n",
       " (60, 4165),\n",
       " (61, 3934),\n",
       " (62, 3884),\n",
       " (63, 3816),\n",
       " (64, 3766),\n",
       " (65, 3719),\n",
       " (66, 3679),\n",
       " (67, 3615),\n",
       " (68, 3576),\n",
       " (69, 3530),\n",
       " (70, 3460),\n",
       " (71, 3411),\n",
       " (72, 3378),\n",
       " (73, 3333),\n",
       " (74, 3288),\n",
       " (75, 3238),\n",
       " (76, 3200),\n",
       " (77, 3162),\n",
       " (78, 3128),\n",
       " (79, 3092),\n",
       " (80, 3063),\n",
       " (81, 3026),\n",
       " (82, 2987),\n",
       " (83, 2947),\n",
       " (84, 2921),\n",
       " (85, 2881),\n",
       " (86, 2862),\n",
       " (87, 2810),\n",
       " (88, 2774),\n",
       " (89, 2731),\n",
       " (90, 2709),\n",
       " (91, 2670),\n",
       " (92, 2644),\n",
       " (93, 2612),\n",
       " (94, 2581),\n",
       " (95, 2561),\n",
       " (96, 2538),\n",
       " (97, 2504),\n",
       " (98, 2490),\n",
       " (99, 2464),\n",
       " (100, 2438),\n",
       " (101, 2401),\n",
       " (102, 2377),\n",
       " (103, 2342),\n",
       " (104, 2322),\n",
       " (105, 2302),\n",
       " (106, 2280),\n",
       " (107, 2265),\n",
       " (108, 2252),\n",
       " (109, 2239),\n",
       " (110, 2215),\n",
       " (111, 2196),\n",
       " (112, 2184),\n",
       " (113, 2172),\n",
       " (114, 2161),\n",
       " (115, 2141),\n",
       " (116, 2130),\n",
       " (117, 2114),\n",
       " (118, 2087),\n",
       " (119, 2070),\n",
       " (120, 2055),\n",
       " (121, 2029),\n",
       " (122, 2015),\n",
       " (123, 1997),\n",
       " (124, 1985),\n",
       " (125, 1972),\n",
       " (126, 1959),\n",
       " (127, 1948),\n",
       " (128, 1934),\n",
       " (129, 1927),\n",
       " (130, 1914),\n",
       " (131, 1902),\n",
       " (132, 1888),\n",
       " (133, 1874),\n",
       " (134, 1869),\n",
       " (135, 1858),\n",
       " (136, 1846),\n",
       " (137, 1837),\n",
       " (138, 1828),\n",
       " (139, 1818),\n",
       " (140, 1811),\n",
       " (141, 1806),\n",
       " (142, 1791),\n",
       " (143, 1776),\n",
       " (144, 1753),\n",
       " (145, 1737),\n",
       " (146, 1731),\n",
       " (147, 1725),\n",
       " (148, 1711),\n",
       " (149, 1702),\n",
       " (150, 1697),\n",
       " (151, 1679),\n",
       " (152, 1669),\n",
       " (153, 1658),\n",
       " (154, 1654),\n",
       " (155, 1640),\n",
       " (156, 1633),\n",
       " (157, 1626),\n",
       " (158, 1620),\n",
       " (159, 1610),\n",
       " (160, 1600),\n",
       " (161, 1591),\n",
       " (162, 1586),\n",
       " (163, 1580),\n",
       " (164, 1570),\n",
       " (165, 1557),\n",
       " (166, 1548),\n",
       " (167, 1546),\n",
       " (168, 1543),\n",
       " (169, 1535),\n",
       " (170, 1527),\n",
       " (171, 1525),\n",
       " (172, 1514),\n",
       " (173, 1505),\n",
       " (174, 1496),\n",
       " (175, 1483),\n",
       " (176, 1475),\n",
       " (177, 1461),\n",
       " (178, 1454),\n",
       " (179, 1448),\n",
       " (180, 1436),\n",
       " (181, 1430),\n",
       " (182, 1425),\n",
       " (183, 1415),\n",
       " (184, 1406),\n",
       " (185, 1399),\n",
       " (186, 1389),\n",
       " (187, 1379),\n",
       " (188, 1361),\n",
       " (189, 1355),\n",
       " (190, 1348),\n",
       " (191, 1337),\n",
       " (192, 1331),\n",
       " (193, 1322),\n",
       " (194, 1313),\n",
       " (195, 1305),\n",
       " (196, 1295),\n",
       " (197, 1287),\n",
       " (198, 1280),\n",
       " (199, 1273),\n",
       " (200, 1260),\n",
       " (201, 1240),\n",
       " (202, 1227),\n",
       " (203, 1222),\n",
       " (204, 1213),\n",
       " (205, 1199),\n",
       " (206, 1191),\n",
       " (207, 1180),\n",
       " (208, 1171),\n",
       " (209, 1160),\n",
       " (210, 1146),\n",
       " (211, 1130),\n",
       " (212, 1122),\n",
       " (213, 1119),\n",
       " (214, 1114),\n",
       " (215, 1105),\n",
       " (216, 1088),\n",
       " (217, 1082),\n",
       " (218, 1078),\n",
       " (219, 1067),\n",
       " (220, 1059),\n",
       " (221, 1057),\n",
       " (222, 1050),\n",
       " (223, 1044),\n",
       " (224, 1042),\n",
       " (225, 1036),\n",
       " (226, 1034),\n",
       " (227, 1020),\n",
       " (228, 1016),\n",
       " (229, 1013),\n",
       " (230, 1011),\n",
       " (231, 1006),\n",
       " (232, 996),\n",
       " (233, 992),\n",
       " (234, 985),\n",
       " (235, 982),\n",
       " (236, 972),\n",
       " (237, 968),\n",
       " (238, 964),\n",
       " (239, 961),\n",
       " (240, 959),\n",
       " (241, 948),\n",
       " (242, 940),\n",
       " (243, 937),\n",
       " (244, 934),\n",
       " (245, 928),\n",
       " (246, 925),\n",
       " (247, 921),\n",
       " (248, 919),\n",
       " (249, 914),\n",
       " (250, 909),\n",
       " (251, 858),\n",
       " (252, 846),\n",
       " (253, 839),\n",
       " (254, 834),\n",
       " (255, 831),\n",
       " (256, 827),\n",
       " (257, 824),\n",
       " (258, 822),\n",
       " (259, 815),\n",
       " (260, 810),\n",
       " (261, 804),\n",
       " (262, 802),\n",
       " (263, 792),\n",
       " (264, 789),\n",
       " (265, 786),\n",
       " (266, 784),\n",
       " (267, 778),\n",
       " (268, 775),\n",
       " (269, 774),\n",
       " (270, 768),\n",
       " (271, 758),\n",
       " (272, 752),\n",
       " (273, 746),\n",
       " (274, 742),\n",
       " (275, 738),\n",
       " (276, 734),\n",
       " (277, 733),\n",
       " (278, 730),\n",
       " (279, 727),\n",
       " (280, 724),\n",
       " (281, 718),\n",
       " (282, 710),\n",
       " (283, 707),\n",
       " (284, 703),\n",
       " (285, 699),\n",
       " (286, 688),\n",
       " (287, 684),\n",
       " (288, 683),\n",
       " (289, 672),\n",
       " (291, 671),\n",
       " (292, 667),\n",
       " (294, 662),\n",
       " (295, 660),\n",
       " (296, 657),\n",
       " (297, 653),\n",
       " (298, 648),\n",
       " (299, 645),\n",
       " (300, 642),\n",
       " (301, 641),\n",
       " (302, 638),\n",
       " (304, 631),\n",
       " (306, 630),\n",
       " (307, 628),\n",
       " (308, 624),\n",
       " (309, 620),\n",
       " (310, 614),\n",
       " (311, 612),\n",
       " (312, 609),\n",
       " (313, 604),\n",
       " (314, 602),\n",
       " (316, 599),\n",
       " (319, 597),\n",
       " (320, 596),\n",
       " (323, 594),\n",
       " (324, 593),\n",
       " (325, 589),\n",
       " (326, 588),\n",
       " (327, 587),\n",
       " (328, 584),\n",
       " (329, 583),\n",
       " (330, 582),\n",
       " (331, 579),\n",
       " (332, 578),\n",
       " (333, 577),\n",
       " (334, 576),\n",
       " (335, 574),\n",
       " (336, 572),\n",
       " (337, 571),\n",
       " (340, 569),\n",
       " (342, 567),\n",
       " (343, 566),\n",
       " (344, 564),\n",
       " (346, 560),\n",
       " (347, 559),\n",
       " (348, 556),\n",
       " (350, 554),\n",
       " (351, 553),\n",
       " (352, 551),\n",
       " (353, 550),\n",
       " (354, 549),\n",
       " (355, 548),\n",
       " (356, 547),\n",
       " (359, 544),\n",
       " (360, 542),\n",
       " (361, 541),\n",
       " (364, 540),\n",
       " (365, 539),\n",
       " (366, 536),\n",
       " (367, 535),\n",
       " (368, 533),\n",
       " (371, 532),\n",
       " (372, 530),\n",
       " (373, 529),\n",
       " (374, 525),\n",
       " (375, 522),\n",
       " (376, 520),\n",
       " (377, 519),\n",
       " (379, 516),\n",
       " (380, 515),\n",
       " (381, 513),\n",
       " (382, 511),\n",
       " (386, 509),\n",
       " (388, 508),\n",
       " (389, 506),\n",
       " (390, 505),\n",
       " (391, 503),\n",
       " (392, 502),\n",
       " (393, 497),\n",
       " (398, 496),\n",
       " (399, 495),\n",
       " (400, 494),\n",
       " (401, 492),\n",
       " (402, 491),\n",
       " (403, 490),\n",
       " (404, 486),\n",
       " (405, 485),\n",
       " (406, 483),\n",
       " (407, 482),\n",
       " (408, 480),\n",
       " (409, 479),\n",
       " (411, 476),\n",
       " (412, 475),\n",
       " (415, 472),\n",
       " (416, 470),\n",
       " (417, 465),\n",
       " (418, 461),\n",
       " (419, 460),\n",
       " (420, 459),\n",
       " (421, 458),\n",
       " (423, 457),\n",
       " (424, 454),\n",
       " (425, 453),\n",
       " (426, 451),\n",
       " (427, 448),\n",
       " (428, 446),\n",
       " (429, 445),\n",
       " (431, 443),\n",
       " (432, 442),\n",
       " (433, 439),\n",
       " (434, 437),\n",
       " (435, 436),\n",
       " (440, 435),\n",
       " (441, 434),\n",
       " (442, 433),\n",
       " (444, 432),\n",
       " (445, 431),\n",
       " (447, 430),\n",
       " (451, 427),\n",
       " (452, 426),\n",
       " (453, 424),\n",
       " (455, 422),\n",
       " (457, 421),\n",
       " (458, 418),\n",
       " (462, 416),\n",
       " (464, 415),\n",
       " (465, 414),\n",
       " (466, 413),\n",
       " (467, 411),\n",
       " (469, 410),\n",
       " (471, 409),\n",
       " (477, 408),\n",
       " (478, 407),\n",
       " (479, 406),\n",
       " (480, 403),\n",
       " (481, 401),\n",
       " (484, 399),\n",
       " (485, 398),\n",
       " (486, 397),\n",
       " (487, 392),\n",
       " (489, 391),\n",
       " (490, 389),\n",
       " (492, 386),\n",
       " (493, 384),\n",
       " (494, 383),\n",
       " (495, 382),\n",
       " (497, 381),\n",
       " (498, 380),\n",
       " (499, 379),\n",
       " (500, 378),\n",
       " (501, 377),\n",
       " (503, 376),\n",
       " (506, 375),\n",
       " (508, 374),\n",
       " (509, 372),\n",
       " (510, 371),\n",
       " (511, 369),\n",
       " (513, 366),\n",
       " (514, 365),\n",
       " (519, 364),\n",
       " (520, 363),\n",
       " (521, 362),\n",
       " (525, 360),\n",
       " (528, 359),\n",
       " (529, 357),\n",
       " (530, 352),\n",
       " (531, 351),\n",
       " (532, 349),\n",
       " (533, 348),\n",
       " (535, 346),\n",
       " (536, 344),\n",
       " (537, 343),\n",
       " (539, 341),\n",
       " (540, 339),\n",
       " (544, 338),\n",
       " (547, 337),\n",
       " (550, 335),\n",
       " (552, 332),\n",
       " (554, 331),\n",
       " (562, 330),\n",
       " (563, 328),\n",
       " (565, 327),\n",
       " (566, 326),\n",
       " (567, 324),\n",
       " (569, 321),\n",
       " (575, 319),\n",
       " (577, 317),\n",
       " (578, 314),\n",
       " (579, 313),\n",
       " (581, 312),\n",
       " (582, 310),\n",
       " (585, 309),\n",
       " (591, 307),\n",
       " (593, 306),\n",
       " (594, 305),\n",
       " (595, 304),\n",
       " (596, 302),\n",
       " (598, 299),\n",
       " (600, 297),\n",
       " (601, 296),\n",
       " (602, 295),\n",
       " (603, 293),\n",
       " (606, 292),\n",
       " (608, 291),\n",
       " (609, 290),\n",
       " (612, 288),\n",
       " (613, 285),\n",
       " (614, 284),\n",
       " (617, 283),\n",
       " (620, 282),\n",
       " (626, 281)]"
      ]
     },
     "execution_count": 27,
     "metadata": {},
     "output_type": "execute_result"
    }
   ],
   "source": [
    "sorted(cdf.items())[:500]"
   ]
  },
  {
   "cell_type": "code",
   "execution_count": 34,
   "metadata": {
    "collapsed": true
   },
   "outputs": [],
   "source": [
    "# Get tags\n",
    "\n",
    "tag_d = {}\n",
    "\n",
    "for i in range(50,400,10):\n",
    "    tag_d[i] = [tag for tag in tag_ctr if tag_ctr[tag] >= i]"
   ]
  },
  {
   "cell_type": "code",
   "execution_count": 37,
   "metadata": {
    "collapsed": true
   },
   "outputs": [],
   "source": [
    "# Save tag_d, cdf\n",
    "with open('tags_cdf.pkl', 'wb') as f:\n",
    "    pickle.dump(cdf, f)\n",
    "    \n",
    "with open('tags_freqs.pkl', 'wb') as f:\n",
    "    pickle.dump(tag_d, f)"
   ]
  },
  {
   "cell_type": "code",
   "execution_count": 22,
   "metadata": {},
   "outputs": [
    {
     "data": {
      "image/png": "[encoded data removed]",
      "text/plain": [
       "<matplotlib.figure.Figure at 0x7f3ac9dea668>"
      ]
     },
     "metadata": {},
     "output_type": "display_data"
    }
   ],
   "source": [
    "%matplotlib inline\n",
    "\n",
    "# Bar chart\n",
    "indices = np.arange(len(freq_ctr))\n",
    "width = 1 # width of bar\n",
    "plt.bar(indices, list(freq_ctr.values()), width)\n",
    "# plt.xticks(indices + width * 0.5, list(freq_ctr.keys()))\n",
    "plt.show()"
   ]
  }
 ],
 "metadata": {
  "kernelspec": {
   "display_name": "Python 3",
   "language": "python",
   "name": "python3"
  },
  "language_info": {
   "codemirror_mode": {
    "name": "ipython",
    "version": 3
   },
   "file_extension": ".py",
   "mimetype": "text/x-python",
   "name": "python",
   "nbconvert_exporter": "python",
   "pygments_lexer": "ipython3",
   "version": "3.6.0"
  }
 },
 "nbformat": 4,
 "nbformat_minor": 2
}
